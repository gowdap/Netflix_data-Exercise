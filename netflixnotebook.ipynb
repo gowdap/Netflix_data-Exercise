{
 "cells": [
  {
   "cell_type": "code",
   "execution_count": 0,
   "metadata": {
    "application/vnd.databricks.v1+cell": {
     "cellMetadata": {
      "byteLimit": 2048000,
      "rowLimit": 10000
     },
     "inputWidgets": {},
     "nuid": "fc7b7364-c88c-458a-a8ba-67504a608181",
     "showTitle": false,
     "tableResultSettingsMap": {},
     "title": ""
    }
   },
   "outputs": [],
   "source": [
    "%pip install openpyxl"
   ]
  },
  {
   "cell_type": "code",
   "execution_count": 0,
   "metadata": {
    "application/vnd.databricks.v1+cell": {
     "cellMetadata": {
      "byteLimit": 2048000,
      "rowLimit": 10000
     },
     "inputWidgets": {},
     "nuid": "eba81b0c-18f3-49c0-a05e-6b22323d72c6",
     "showTitle": false,
     "tableResultSettingsMap": {},
     "title": ""
    }
   },
   "outputs": [],
   "source": [
    "%restart_python"
   ]
  },
  {
   "cell_type": "code",
   "execution_count": 0,
   "metadata": {
    "application/vnd.databricks.v1+cell": {
     "cellMetadata": {
      "byteLimit": 2048000,
      "rowLimit": 10000
     },
     "inputWidgets": {},
     "nuid": "e81f72f1-4182-4450-8243-e4f4f912dde3",
     "showTitle": false,
     "tableResultSettingsMap": {},
     "title": ""
    }
   },
   "outputs": [],
   "source": [
    "%pip list | grep openpyxl "
   ]
  },
  {
   "cell_type": "code",
   "execution_count": 0,
   "metadata": {
    "application/vnd.databricks.v1+cell": {
     "cellMetadata": {
      "byteLimit": 2048000,
      "rowLimit": 10000
     },
     "inputWidgets": {},
     "nuid": "d52a1fa2-8085-4971-8d09-6fe233fe9f1a",
     "showTitle": false,
     "tableResultSettingsMap": {},
     "title": ""
    }
   },
   "outputs": [],
   "source": [
    "import pandas as pd\n",
    "\n",
    "# Read Excel with pandas and save as CSV\n",
    "pdf = pd.read_excel(\"/Volumes/pyspark_catalog/source/db_volume/netflix_data/NFLX_top10.xlsx\")\n",
    "pdf.to_csv(\"/Volumes/pyspark_catalog/source/db_volume/netflix_data/NFLX_top10.csv\", index=False)"
   ]
  },
  {
   "cell_type": "code",
   "execution_count": 0,
   "metadata": {
    "application/vnd.databricks.v1+cell": {
     "cellMetadata": {
      "byteLimit": 2048000,
      "rowLimit": 10000
     },
     "inputWidgets": {},
     "nuid": "0f07bb3f-4005-4521-9c34-b63ff12b6f3d",
     "showTitle": false,
     "tableResultSettingsMap": {},
     "title": ""
    }
   },
   "outputs": [],
   "source": [
    "pdf = pd.read_excel(\"/Volumes/pyspark_catalog/source/db_volume/netflix_data/IMDB_rating1.xlsx\")\n",
    "pdf.to_csv(\"/Volumes/pyspark_catalog/source/db_volume/netflix_data/IMDB_rating.csv\", index=False)"
   ]
  },
  {
   "cell_type": "code",
   "execution_count": 0,
   "metadata": {
    "application/vnd.databricks.v1+cell": {
     "cellMetadata": {
      "byteLimit": 2048000,
      "rowLimit": 10000
     },
     "inputWidgets": {},
     "nuid": "4af22945-cb4c-4a69-b59a-abb5917f731c",
     "showTitle": false,
     "tableResultSettingsMap": {},
     "title": ""
    }
   },
   "outputs": [],
   "source": [
    "from pyspark.sql.functions import *\n",
    "from pyspark.sql.window import Window\n",
    "#Step 1: Load the datasets from Excel files\n",
    "# Load NFLX Top 10 sheet\n",
    "top10_df = spark.read.format(\"csv\") \\\n",
    "    .option(\"header\", \"true\") \\\n",
    "    .option(\"inferSchema\", \"true\") \\\n",
    "    .option(\"treatEmptyValuesAsNulls\", \"true\") \\\n",
    "    .load(\"/Volumes/pyspark_catalog/source/db_volume/netflix_data/NFLX_top10.csv\")"
   ]
  },
  {
   "cell_type": "code",
   "execution_count": 0,
   "metadata": {
    "application/vnd.databricks.v1+cell": {
     "cellMetadata": {
      "byteLimit": 2048000,
      "rowLimit": 10000
     },
     "inputWidgets": {},
     "nuid": "2a760c0e-c958-4686-93b2-bdfe53e6b667",
     "showTitle": false,
     "tableResultSettingsMap": {},
     "title": ""
    }
   },
   "outputs": [],
   "source": [
    "display(top10_df)"
   ]
  },
  {
   "cell_type": "code",
   "execution_count": 0,
   "metadata": {
    "application/vnd.databricks.v1+cell": {
     "cellMetadata": {
      "byteLimit": 2048000,
      "rowLimit": 10000
     },
     "inputWidgets": {},
     "nuid": "4cb542ad-763f-436e-bd83-e363f2c21365",
     "showTitle": false,
     "tableResultSettingsMap": {},
     "title": ""
    }
   },
   "outputs": [],
   "source": [
    "# Load IMDB Rating sheet (contains title, rating)\n",
    "imdb_df = spark.read.format(\"csv\") \\\n",
    "    .option(\"header\", \"true\") \\\n",
    "    .option(\"inferSchema\", \"true\") \\\n",
    "    .option(\"treatEmptyValuesAsNulls\", \"true\") \\\n",
    "    .load(\"/Volumes/pyspark_catalog/source/db_volume/netflix_data/IMDB_rating.csv\")"
   ]
  },
  {
   "cell_type": "code",
   "execution_count": 0,
   "metadata": {
    "application/vnd.databricks.v1+cell": {
     "cellMetadata": {
      "byteLimit": 2048000,
      "rowLimit": 10000
     },
     "inputWidgets": {},
     "nuid": "f85064c6-1298-4dae-b554-d6551913f87f",
     "showTitle": false,
     "tableResultSettingsMap": {
      "0": {
       "dataGridStateBlob": "{\"version\":1,\"tableState\":{\"columnPinning\":{\"left\":[\"#row_number#\"],\"right\":[]},\"columnSizing\":{},\"columnVisibility\":{}},\"settings\":{\"columns\":{}},\"syncTimestamp\":1755869275019}",
       "filterBlob": null,
       "queryPlanFiltersBlob": null,
       "tableResultIndex": 0
      }
     },
     "title": ""
    }
   },
   "outputs": [],
   "source": [
    "display(imdb_df)"
   ]
  },
  {
   "cell_type": "code",
   "execution_count": 0,
   "metadata": {
    "application/vnd.databricks.v1+cell": {
     "cellMetadata": {
      "byteLimit": 2048000,
      "rowLimit": 10000
     },
     "inputWidgets": {},
     "nuid": "5d9e1d72-3dc6-4c4e-8dcb-c7c3a3a86c56",
     "showTitle": false,
     "tableResultSettingsMap": {},
     "title": ""
    }
   },
   "outputs": [],
   "source": [
    "#Step 2: Data Cleaning and Joining\n",
    "\n",
    "joined_df = top10_df.join(imdb_df.withColumnRenamed(\"title\", \"show_title\"), on=\"show_title\", how=\"inner\") \\\n",
    "    .filter(col(\"rating\").isNotNull() & (col(\"rating\") > 0))\n",
    "joined_df.show(10)"
   ]
  },
  {
   "cell_type": "code",
   "execution_count": 0,
   "metadata": {
    "application/vnd.databricks.v1+cell": {
     "cellMetadata": {
      "byteLimit": 2048000,
      "rowLimit": 10000
     },
     "inputWidgets": {},
     "nuid": "5a1b83a6-1024-4c25-80e5-966e9f820371",
     "showTitle": false,
     "tableResultSettingsMap": {},
     "title": ""
    }
   },
   "outputs": [],
   "source": [
    "# Step 3: Analysis 1 - IMDb Rating and Weekly Rank\n",
    "# Compute average weekly rank by rating buckets (e.g., <5, 5-7, >7)\n",
    "# Create rating buckets\n",
    "# Lower weekly_rank number means better rank (1 is top)\n",
    "joined_df_with_buckets = joined_df.withColumn(\"rating_bucket\",\n",
    "    when(col(\"rating\") < 5, \"<5\")\n",
    "    .when((col(\"rating\") >= 5) & (col(\"rating\") <= 7), \"5-7\")\n",
    "    .otherwise(\">7\"))\n",
    "display(joined_df_with_buckets)"
   ]
  },
  {
   "cell_type": "code",
   "execution_count": 0,
   "metadata": {
    "application/vnd.databricks.v1+cell": {
     "cellMetadata": {
      "byteLimit": 2048000,
      "rowLimit": 10000
     },
     "inputWidgets": {},
     "nuid": "a57182a6-c279-4a37-8eee-03987717da51",
     "showTitle": false,
     "tableResultSettingsMap": {},
     "title": ""
    }
   },
   "outputs": [],
   "source": [
    "# Average weekly rank per bucket (lower avg rank is better)\n",
    "avg_rank_by_bucket = joined_df_with_buckets.groupBy(\"rating_bucket\") \\\n",
    "    .agg(round(avg(\"weekly_rank\"), 2).alias(\"avg_weekly_rank\")) \\\n",
    "    .orderBy(\"rating_bucket\")\n",
    "\n",
    "avg_rank_by_bucket.show()"
   ]
  },
  {
   "cell_type": "code",
   "execution_count": 0,
   "metadata": {
    "application/vnd.databricks.v1+cell": {
     "cellMetadata": {
      "byteLimit": 2048000,
      "rowLimit": 10000
     },
     "inputWidgets": {},
     "nuid": "527c965d-6be1-497f-aedf-a73482e556d5",
     "showTitle": false,
     "tableResultSettingsMap": {},
     "title": ""
    }
   },
   "outputs": [],
   "source": [
    "# Examples of low-rated but high-ranked titles (weekly_rank <=5, rating <5)\n",
    "low_rating_high_rank_examples = joined_df.filter((col(\"weekly_rank\") <= 5) & (col(\"rating\") < 5)) \\\n",
    "    .select(\"show_title\", \"rating\", \"weekly_rank\") \\\n",
    "    .distinct() \\\n",
    "    .orderBy(\"weekly_rank\")\n",
    "\n",
    "low_rating_high_rank_examples.show(10)"
   ]
  },
  {
   "cell_type": "code",
   "execution_count": 0,
   "metadata": {
    "application/vnd.databricks.v1+cell": {
     "cellMetadata": {
      "byteLimit": 2048000,
      "rowLimit": 10000
     },
     "inputWidgets": {},
     "nuid": "62d5e0c4-fa6d-4fb7-b779-08096f1380f8",
     "showTitle": false,
     "tableResultSettingsMap": {},
     "title": ""
    }
   },
   "outputs": [],
   "source": [
    "# Examples of high-rated but low-ranked titles (rating >7, weekly_rank >5)\n",
    "high_rating_low_rank_examples = joined_df.filter((col(\"rating\") > 7) & (col(\"weekly_rank\") > 5)) \\\n",
    "    .select(\"show_title\", \"rating\", \"weekly_rank\") \\\n",
    "    .distinct() \\\n",
    "    .orderBy(desc(\"weekly_rank\"))\n",
    "\n",
    "high_rating_low_rank_examples.show(10)"
   ]
  },
  {
   "cell_type": "code",
   "execution_count": 0,
   "metadata": {
    "application/vnd.databricks.v1+cell": {
     "cellMetadata": {
      "byteLimit": 2048000,
      "rowLimit": 10000
     },
     "inputWidgets": {},
     "nuid": "3c15d202-e485-4c1e-b2a7-fec58dd8aec0",
     "showTitle": false,
     "tableResultSettingsMap": {},
     "title": ""
    }
   },
   "outputs": [],
   "source": [
    "# Correlation between rating and weekly_rank (negative correlation would mean higher rating -> better rank)\n",
    "correlation_rank = joined_df.stat.corr(\"rating\", \"weekly_rank\")\n",
    "print(f\"Correlation between IMDb Rating and Weekly Rank: {correlation_rank}\")"
   ]
  },
  {
   "cell_type": "code",
   "execution_count": 0,
   "metadata": {
    "application/vnd.databricks.v1+cell": {
     "cellMetadata": {
      "byteLimit": 2048000,
      "rowLimit": 10000
     },
     "inputWidgets": {},
     "nuid": "5f59b636-98fe-4f97-aed0-6fa408982dac",
     "showTitle": false,
     "tableResultSettingsMap": {},
     "title": ""
    }
   },
   "outputs": [],
   "source": [
    "# Step 4: Analysis 2 - IMDb Ratings and Cumulative Weeks in Top 10\n",
    "# Insight: Higher-rated titles (>7) tend to stay longer in Top 10.\n",
    "\n",
    "# Average cumulative weeks by rating bucket\n",
    "avg_cumulative_by_bucket = joined_df_with_buckets.groupBy(\"rating_bucket\") \\\n",
    "    .agg(round(avg(\"cumulative_weeks_in_top_10\"), 2).alias(\"avg_cumulative_weeks\")) \\\n",
    "    .orderBy(\"rating_bucket\")\n",
    "\n",
    "avg_cumulative_by_bucket.show()"
   ]
  },
  {
   "cell_type": "code",
   "execution_count": 0,
   "metadata": {
    "application/vnd.databricks.v1+cell": {
     "cellMetadata": {
      "byteLimit": 2048000,
      "rowLimit": 10000
     },
     "inputWidgets": {},
     "nuid": "716e586c-8375-49e7-9e5b-2eb252b616fd",
     "showTitle": false,
     "tableResultSettingsMap": {},
     "title": ""
    }
   },
   "outputs": [],
   "source": [
    "# Titles with high rating (>7) and high cumulative weeks (>5)\n",
    "high_rating_long_stay = joined_df.filter((col(\"rating\") > 7) & (col(\"cumulative_weeks_in_top_10\") > 5)) \\\n",
    "    .select(\"show_title\", \"rating\", \"cumulative_weeks_in_top_10\") \\\n",
    "    .distinct() \\\n",
    "    .dropDuplicates([\"show_title\"])\\\n",
    "    .orderBy(desc(\"cumulative_weeks_in_top_10\"))\n",
    "\n",
    "high_rating_long_stay.show(10)"
   ]
  },
  {
   "cell_type": "code",
   "execution_count": 0,
   "metadata": {
    "application/vnd.databricks.v1+cell": {
     "cellMetadata": {
      "byteLimit": 2048000,
      "rowLimit": 10000
     },
     "inputWidgets": {},
     "nuid": "2b432f2e-8c34-467d-991b-decd4ed10455",
     "showTitle": false,
     "tableResultSettingsMap": {},
     "title": ""
    }
   },
   "outputs": [],
   "source": [
    "# Correlation between rating and cumulative_weeks_in_top_10\n",
    "correlation_cumulative = joined_df.stat.corr(\"rating\", \"cumulative_weeks_in_top_10\")\n",
    "print(f\"Correlation between IMDb Rating and Cumulative Weeks in Top 10: {correlation_cumulative}\")"
   ]
  },
  {
   "cell_type": "code",
   "execution_count": 0,
   "metadata": {
    "application/vnd.databricks.v1+cell": {
     "cellMetadata": {
      "byteLimit": 2048000,
      "rowLimit": 10000
     },
     "inputWidgets": {},
     "nuid": "c34a0957-dbbd-41b4-89ef-28366913979c",
     "showTitle": false,
     "tableResultSettingsMap": {},
     "title": ""
    }
   },
   "outputs": [],
   "source": [
    "# Step 5: Analysis 3 - IMDb Ratings and Weekly Hours Viewed\n",
    "# Insight: Relationship is inconsistent; some low-rated titles have high hours viewed due to curiosity/marketing.\n",
    "\n",
    "# Average weekly hours viewed by rating bucket\n",
    "avg_hours_by_bucket = joined_df_with_buckets.groupBy(\"rating_bucket\") \\\n",
    "    .agg(round(avg(\"weekly_hours_viewed\"), 0).alias(\"avg_weekly_hours_viewed\")) \\\n",
    "    .orderBy(\"rating_bucket\")\n",
    "\n",
    "avg_hours_by_bucket.show()"
   ]
  },
  {
   "cell_type": "code",
   "execution_count": 0,
   "metadata": {
    "application/vnd.databricks.v1+cell": {
     "cellMetadata": {
      "byteLimit": 2048000,
      "rowLimit": 10000
     },
     "inputWidgets": {},
     "nuid": "620d15b5-6ea9-4361-a521-b208cf59deae",
     "showTitle": false,
     "tableResultSettingsMap": {},
     "title": ""
    }
   },
   "outputs": [],
   "source": [
    "# Total hours viewed per title, grouped by rating bucket\n",
    "total_hours_by_bucket = joined_df_with_buckets.groupBy(\"rating_bucket\") \\\n",
    "    .agg(sum(\"weekly_hours_viewed\").alias(\"total_weekly_hours_viewed\")) \\\n",
    "    .orderBy(\"rating_bucket\")\n",
    "\n",
    "total_hours_by_bucket.show()"
   ]
  },
  {
   "cell_type": "code",
   "execution_count": 0,
   "metadata": {
    "application/vnd.databricks.v1+cell": {
     "cellMetadata": {
      "byteLimit": 2048000,
      "rowLimit": 10000
     },
     "inputWidgets": {},
     "nuid": "27530d93-8562-401e-a0d1-1437eb8df0fa",
     "showTitle": false,
     "tableResultSettingsMap": {},
     "title": ""
    }
   },
   "outputs": [],
   "source": [
    "# Examples of low-rated but high hours viewed (rating <5, weekly_hours_viewed > 10M)\n",
    "low_rating_high_hours = joined_df.filter((col(\"rating\") < 5) & (col(\"weekly_hours_viewed\") > 10000000)) \\\n",
    "    .select(\"show_title\", \"rating\", \"weekly_hours_viewed\") \\\n",
    "    .distinct() \\\n",
    "    .orderBy(desc(\"weekly_hours_viewed\"))\n",
    "\n",
    "low_rating_high_hours.show(10)"
   ]
  },
  {
   "cell_type": "code",
   "execution_count": 0,
   "metadata": {
    "application/vnd.databricks.v1+cell": {
     "cellMetadata": {
      "byteLimit": 2048000,
      "rowLimit": 10000
     },
     "inputWidgets": {},
     "nuid": "0307a855-f532-4d56-93e6-ae09cbcc1cad",
     "showTitle": false,
     "tableResultSettingsMap": {},
     "title": ""
    }
   },
   "outputs": [],
   "source": [
    "# Correlation between rating and weekly_hours_viewed\n",
    "correlation_hours = joined_df.stat.corr(\"rating\", \"weekly_hours_viewed\")\n",
    "print(f\"Correlation between IMDb Rating and Weekly Hours Viewed: {correlation_hours}\")"
   ]
  },
  {
   "cell_type": "code",
   "execution_count": 0,
   "metadata": {
    "application/vnd.databricks.v1+cell": {
     "cellMetadata": {
      "byteLimit": 2048000,
      "rowLimit": 10000
     },
     "inputWidgets": {},
     "nuid": "0a493ec0-e5a1-4257-bbe3-097fad7c4297",
     "showTitle": false,
     "tableResultSettingsMap": {},
     "title": ""
    }
   },
   "outputs": [],
   "source": [
    "# Step 6: Overall Insights Summary (Printed for Reference)\n",
    "print(\"\"\"\n",
    "Insights:\n",
    "1. IMDb Rating and Weekly Rank: High ratings don't guarantee top ranks. Correlation is {corr_rank}. Examples show low-rated titles like '365 Days: This Day' (2.5) ranking high.\n",
    "2. IMDb Ratings and Cumulative Weeks: Higher ratings correlate with longer stays (corr: {corr_cum}). Titles like 'Yo soy Betty, la fea' (>8 rating) stay multiple weeks.\n",
    "3. IMDb Ratings and Weekly Hours Viewed: Inconsistent; low-rated titles can have high hours (corr: {corr_hours}). Marketing drives short-term views.\"\"\")"
   ]
  }
 ],
 "metadata": {
  "application/vnd.databricks.v1+notebook": {
   "computePreferences": {
    "hardware": {
     "accelerator": null,
     "gpuPoolId": null,
     "memory": null
    }
   },
   "dashboards": [],
   "environmentMetadata": {
    "base_environment": "",
    "environment_version": "3"
   },
   "inputWidgetPreferences": null,
   "language": "python",
   "notebookMetadata": {
    "pythonIndentUnit": 4
   },
   "notebookName": "netflixnotebook",
   "widgets": {}
  },
  "language_info": {
   "name": "python"
  }
 },
 "nbformat": 4,
 "nbformat_minor": 0
}
